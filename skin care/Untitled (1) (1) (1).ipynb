{
 "cells": [
  {
   "cell_type": "code",
   "execution_count": 15,
   "id": "27582b6c",
   "metadata": {},
   "outputs": [
    {
     "name": "stdout",
     "output_type": "stream",
     "text": [
      "Requirement already satisfied: roboflow in c:\\users\\akshaya\\anaconda3\\lib\\site-packages (1.1.9)\n",
      "Requirement already satisfied: certifi==2023.7.22 in c:\\users\\akshaya\\appdata\\roaming\\python\\python311\\site-packages (from roboflow) (2023.7.22)\n",
      "Requirement already satisfied: chardet==4.0.0 in c:\\users\\akshaya\\anaconda3\\lib\\site-packages (from roboflow) (4.0.0)\n",
      "Requirement already satisfied: cycler==0.10.0 in c:\\users\\akshaya\\anaconda3\\lib\\site-packages (from roboflow) (0.10.0)\n",
      "Requirement already satisfied: idna==2.10 in c:\\users\\akshaya\\anaconda3\\lib\\site-packages (from roboflow) (2.10)\n",
      "Requirement already satisfied: kiwisolver>=1.3.1 in c:\\users\\akshaya\\appdata\\roaming\\python\\python311\\site-packages (from roboflow) (1.4.5)\n",
      "Requirement already satisfied: matplotlib in c:\\users\\akshaya\\appdata\\roaming\\python\\python311\\site-packages (from roboflow) (3.8.1)\n",
      "Requirement already satisfied: numpy>=1.18.5 in c:\\users\\akshaya\\appdata\\roaming\\python\\python311\\site-packages (from roboflow) (1.26.1)\n",
      "Requirement already satisfied: opencv-python-headless==4.8.0.74 in c:\\users\\akshaya\\anaconda3\\lib\\site-packages (from roboflow) (4.8.0.74)\n",
      "Requirement already satisfied: Pillow>=7.1.2 in c:\\users\\akshaya\\appdata\\roaming\\python\\python311\\site-packages (from roboflow) (10.1.0)\n",
      "Requirement already satisfied: pyparsing==2.4.7 in c:\\users\\akshaya\\anaconda3\\lib\\site-packages (from roboflow) (2.4.7)\n",
      "Requirement already satisfied: python-dateutil in c:\\users\\akshaya\\appdata\\roaming\\python\\python311\\site-packages (from roboflow) (2.8.2)\n",
      "Requirement already satisfied: python-dotenv in c:\\users\\akshaya\\appdata\\roaming\\python\\python311\\site-packages (from roboflow) (1.0.0)\n",
      "Requirement already satisfied: requests in c:\\users\\akshaya\\appdata\\roaming\\python\\python311\\site-packages (from roboflow) (2.31.0)\n",
      "Requirement already satisfied: six in c:\\users\\akshaya\\appdata\\roaming\\python\\python311\\site-packages (from roboflow) (1.16.0)\n",
      "Requirement already satisfied: supervision in c:\\users\\akshaya\\anaconda3\\lib\\site-packages (from roboflow) (0.16.0)\n",
      "Requirement already satisfied: urllib3>=1.26.6 in c:\\users\\akshaya\\appdata\\roaming\\python\\python311\\site-packages (from roboflow) (2.0.7)\n",
      "Requirement already satisfied: tqdm>=4.41.0 in c:\\users\\akshaya\\appdata\\roaming\\python\\python311\\site-packages (from roboflow) (4.66.1)\n",
      "Requirement already satisfied: PyYAML>=5.3.1 in c:\\users\\akshaya\\appdata\\roaming\\python\\python311\\site-packages (from roboflow) (6.0.1)\n",
      "Requirement already satisfied: requests-toolbelt in c:\\users\\akshaya\\anaconda3\\lib\\site-packages (from roboflow) (1.0.0)\n",
      "Requirement already satisfied: python-magic in c:\\users\\akshaya\\anaconda3\\lib\\site-packages (from roboflow) (0.4.27)\n",
      "Requirement already satisfied: colorama in c:\\users\\akshaya\\appdata\\roaming\\python\\python311\\site-packages (from tqdm>=4.41.0->roboflow) (0.4.6)\n",
      "Requirement already satisfied: contourpy>=1.0.1 in c:\\users\\akshaya\\appdata\\roaming\\python\\python311\\site-packages (from matplotlib->roboflow) (1.2.0)\n",
      "Requirement already satisfied: fonttools>=4.22.0 in c:\\users\\akshaya\\appdata\\roaming\\python\\python311\\site-packages (from matplotlib->roboflow) (4.44.0)\n",
      "Requirement already satisfied: packaging>=20.0 in c:\\users\\akshaya\\appdata\\roaming\\python\\python311\\site-packages (from matplotlib->roboflow) (23.2)\n",
      "Requirement already satisfied: charset-normalizer<4,>=2 in c:\\users\\akshaya\\appdata\\roaming\\python\\python311\\site-packages (from requests->roboflow) (3.3.1)\n",
      "Requirement already satisfied: scipy<2.0.0,>=1.9.0 in c:\\users\\akshaya\\appdata\\roaming\\python\\python311\\site-packages (from supervision->roboflow) (1.11.4)\n"
     ]
    }
   ],
   "source": [
    "!pip install roboflow"
   ]
  },
  {
   "cell_type": "code",
   "execution_count": 16,
   "id": "e6105692",
   "metadata": {},
   "outputs": [],
   "source": [
    "from IPython.display import Image,clear_output"
   ]
  },
  {
   "cell_type": "code",
   "execution_count": 24,
   "id": "352aa7bf",
   "metadata": {},
   "outputs": [
    {
     "name": "stdout",
     "output_type": "stream",
     "text": [
      "loading Roboflow workspace...\n",
      "loading Roboflow project...\n"
     ]
    }
   ],
   "source": [
    "from roboflow import Roboflow\n",
    "\n",
    "rf = Roboflow(api_key=\"P5uluqx7HFjXZKM1FSF0\")\n",
    "project = rf.workspace().project(\"acne_detection\")\n",
    "model = project.version(1).model"
   ]
  },
  {
   "cell_type": "code",
   "execution_count": 25,
   "id": "1a401298",
   "metadata": {},
   "outputs": [],
   "source": [
    "# infer on a local imag\n",
    "dict=(model.predict(r\"C:\\Users\\Akshaya\\MACHINE LEARNING PROJECTS\\acne robo\\eg2.jpeg\", confidence=50, overlap=50).json())"
   ]
  },
  {
   "cell_type": "code",
   "execution_count": 6,
   "id": "1a32cdcb",
   "metadata": {},
   "outputs": [
    {
     "name": "stdout",
     "output_type": "stream",
     "text": [
      "Requirement already satisfied: opencv-python in c:\\users\\akshaya\\appdata\\roaming\\python\\python311\\site-packages (4.8.1.78)\n",
      "Requirement already satisfied: numpy>=1.21.2 in c:\\users\\akshaya\\appdata\\roaming\\python\\python311\\site-packages (from opencv-python) (1.26.1)\n",
      "Note: you may need to restart the kernel to use updated packages.\n"
     ]
    }
   ],
   "source": [
    "pip install opencv-python"
   ]
  },
  {
   "cell_type": "code",
   "execution_count": 19,
   "id": "6e551d0a",
   "metadata": {},
   "outputs": [
    {
     "name": "stdout",
     "output_type": "stream",
     "text": [
      "{'predictions': [{'x': 880, 'y': 381, 'width': 45, 'height': 46, 'confidence': 0.5586880445480347, 'class': 'acne', 'class_id': 0, 'image_path': 'C:\\\\Users\\\\Akshaya\\\\MACHINE LEARNING PROJECTS\\\\acne robo\\\\eg2.jpeg', 'prediction_type': 'ObjectDetectionModel'}, {'x': 879, 'y': 471, 'width': 31, 'height': 30, 'confidence': 0.5026295185089111, 'class': 'acne', 'class_id': 0, 'image_path': 'C:\\\\Users\\\\Akshaya\\\\MACHINE LEARNING PROJECTS\\\\acne robo\\\\eg2.jpeg', 'prediction_type': 'ObjectDetectionModel'}], 'image': {'width': '963', 'height': '1280'}}\n"
     ]
    }
   ],
   "source": [
    "print(dict)"
   ]
  },
  {
   "cell_type": "code",
   "execution_count": 20,
   "id": "17060609",
   "metadata": {},
   "outputs": [
    {
     "name": "stdout",
     "output_type": "stream",
     "text": [
      "2\n"
     ]
    }
   ],
   "source": [
    "count = 0\n",
    "for x in dict:\n",
    "    if isinstance(dict[x], list):\n",
    "        count += len(dict[x])\n",
    "\n",
    "print(count)"
   ]
  },
  {
   "cell_type": "code",
   "execution_count": 21,
   "id": "89c5120a",
   "metadata": {},
   "outputs": [
    {
     "name": "stdout",
     "output_type": "stream",
     "text": [
      "[[[ 14  22  25]\n",
      "  [ 12  20  23]\n",
      "  [ 10  18  21]\n",
      "  ...\n",
      "  [ 99  86  70]\n",
      "  [ 99  86  70]\n",
      "  [100  87  71]]\n",
      "\n",
      " [[ 13  21  24]\n",
      "  [ 12  20  23]\n",
      "  [ 10  18  21]\n",
      "  ...\n",
      "  [ 95  82  66]\n",
      "  [ 96  83  67]\n",
      "  [ 96  83  67]]\n",
      "\n",
      " [[ 11  19  22]\n",
      "  [ 10  18  21]\n",
      "  [  9  17  20]\n",
      "  ...\n",
      "  [ 97  84  68]\n",
      "  [ 97  84  68]\n",
      "  [ 97  84  68]]\n",
      "\n",
      " ...\n",
      "\n",
      " [[107  35  49]\n",
      "  [109  37  51]\n",
      "  [112  40  54]\n",
      "  ...\n",
      "  [ 98  84  75]\n",
      "  [ 98  84  75]\n",
      "  [ 97  83  74]]\n",
      "\n",
      " [[103  31  45]\n",
      "  [106  34  48]\n",
      "  [110  38  52]\n",
      "  ...\n",
      "  [ 98  84  75]\n",
      "  [ 98  84  75]\n",
      "  [ 98  84  75]]\n",
      "\n",
      " [[100  28  42]\n",
      "  [104  32  46]\n",
      "  [109  37  51]\n",
      "  ...\n",
      "  [ 97  83  74]\n",
      "  [ 97  83  74]\n",
      "  [ 97  83  74]]]\n"
     ]
    }
   ],
   "source": [
    "\n",
    "# Import the necessary libraries\n",
    "from PIL import Image\n",
    "from numpy import asarray\n",
    " \n",
    " \n",
    "# load the image and convert into \n",
    "# numpy array\n",
    "img = Image.open(r\"C:\\Users\\Akshaya\\MACHINE LEARNING PROJECTS\\acne robo\\eg2.jpeg\")\n",
    "numpydata = asarray(img)\n",
    " \n",
    "# data\n",
    "print(numpydata)"
   ]
  },
  {
   "cell_type": "code",
   "execution_count": 22,
   "id": "6de32011",
   "metadata": {},
   "outputs": [
    {
     "data": {
      "text/plain": [
       "True"
      ]
     },
     "execution_count": 22,
     "metadata": {},
     "output_type": "execute_result"
    }
   ],
   "source": [
    "import cv2\n",
    "image=r\"C:\\Users\\Akshaya\\MACHINE LEARNING PROJECTS\\acne robo\\WhatsApp Image 2023-11-27 at 14.34.40.jpeg\"\n",
    "predictions = dict\n",
    "\n",
    "for bounding_box in predictions[\"predictions\"]:\n",
    "    x0 = bounding_box['x'] - bounding_box['width'] / 2\n",
    "    x1 = bounding_box['x'] + bounding_box['width'] / 2\n",
    "    y0 = bounding_box['y'] - bounding_box['height'] / 2\n",
    "    y1 = bounding_box['y'] + bounding_box['height'] / 2\n",
    "    \n",
    "    start_point = (int(x0), int(y0))\n",
    "    end_point = (int(x1), int(y1))\n",
    "    cv2.rectangle(numpydata, start_point, end_point, color=(0,255,0), thickness=2)\n",
    "   \n",
    "cv2.imwrite(\"example_with_bounding_boxes.jpg\",numpydata)"
   ]
  },
  {
   "cell_type": "code",
   "execution_count": 23,
   "id": "4f7bb395",
   "metadata": {},
   "outputs": [
    {
     "name": "stdout",
     "output_type": "stream",
     "text": [
      "Mild acne\n"
     ]
    }
   ],
   "source": [
    "if count<5:\n",
    "    print(\"Mild acne\")\n",
    "elif count<20:\n",
    "    print(\"Moderate acne\")\n",
    "elif count<50:\n",
    "    print(\"Severe acne\")\n",
    "elif count>100:\n",
    "    print(\"Extremely Severe acne\")\n",
    "else:\n",
    "    print(\"No ance of clear face\")"
   ]
  },
  {
   "cell_type": "code",
   "execution_count": null,
   "id": "3770adb0",
   "metadata": {},
   "outputs": [],
   "source": []
  }
 ],
 "metadata": {
  "kernelspec": {
   "display_name": "Python 3 (ipykernel)",
   "language": "python",
   "name": "python3"
  },
  "language_info": {
   "codemirror_mode": {
    "name": "ipython",
    "version": 3
   },
   "file_extension": ".py",
   "mimetype": "text/x-python",
   "name": "python",
   "nbconvert_exporter": "python",
   "pygments_lexer": "ipython3",
   "version": "3.11.4"
  }
 },
 "nbformat": 4,
 "nbformat_minor": 5
}
